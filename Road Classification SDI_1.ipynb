{
 "cells": [
  {
   "cell_type": "code",
   "execution_count": 5,
   "id": "0863ffc7-12fa-4dba-9410-763cfc93ad28",
   "metadata": {},
   "outputs": [
    {
     "name": "stdout",
     "output_type": "stream",
     "text": [
      "  ruas_jalan  retak_ringan  retak_sedang  retak_berat  lubang_ringan  \\\n",
      "0         A1             5             3            1              2   \n",
      "1         A2             2             4            0              1   \n",
      "2         A3             8             2            3              0   \n",
      "3         B1             1             5            2              3   \n",
      "4         B2             0             1            4              2   \n",
      "\n",
      "   lubang_berat  alur  \n",
      "0             0     1  \n",
      "1             1     0  \n",
      "2             2     1  \n",
      "3             1     2  \n",
      "4             3     0  \n"
     ]
    }
   ],
   "source": [
    "import pandas as pd\n",
    "import numpy as np\n",
    "\n",
    "# Contoh data kerusakan jalan\n",
    "data = {\n",
    "    'ruas_jalan': ['A1', 'A2', 'A3', 'B1', 'B2'],\n",
    "    'retak_ringan': [5, 2, 8, 1, 0],\n",
    "    'retak_sedang': [3, 4, 2, 5, 1],\n",
    "    'retak_berat': [1, 0, 3, 2, 4],\n",
    "    'lubang_ringan': [2, 1, 0, 3, 2],\n",
    "    'lubang_berat': [0, 1, 2, 1, 3],\n",
    "    'alur': [1, 0, 1, 2, 0]\n",
    "}\n",
    "\n",
    "df = pd.DataFrame(data)\n",
    "print(df)"
   ]
  },
  {
   "cell_type": "code",
   "execution_count": 7,
   "id": "6724a3db-edba-482e-bd34-235e9eec7daa",
   "metadata": {},
   "outputs": [
    {
     "name": "stdout",
     "output_type": "stream",
     "text": [
      "  ruas_jalan  SDI\n",
      "0         A1  4.3\n",
      "1         A2  3.4\n",
      "2         A3  6.8\n",
      "3         B1  6.7\n",
      "4         B2  6.4\n"
     ]
    }
   ],
   "source": [
    "def calculate_sdi(row):\n",
    "    # Bobot untuk setiap jenis dan tingkat kerusakan\n",
    "    bobot = {\n",
    "        'retak_ringan': 0.2,\n",
    "        'retak_sedang': 0.5,\n",
    "        'retak_berat': 0.8,\n",
    "        'lubang_ringan': 0.3,\n",
    "        'lubang_berat': 0.7,\n",
    "        'alur': 0.4\n",
    "    }\n",
    "    \n",
    "    sdi = 0\n",
    "    for kerusakan in bobot.keys():\n",
    "        sdi += row[kerusakan] * bobot[kerusakan]\n",
    "    \n",
    "    return sdi\n",
    "\n",
    "# Hitung SDI untuk setiap ruas jalan\n",
    "df['SDI'] = df.apply(calculate_sdi, axis=1)\n",
    "print(df[['ruas_jalan', 'SDI']])"
   ]
  },
  {
   "cell_type": "code",
   "execution_count": 9,
   "id": "b611ce01-21b0-44de-9256-967b75dd095b",
   "metadata": {},
   "outputs": [
    {
     "name": "stdout",
     "output_type": "stream",
     "text": [
      "  ruas_jalan  SDI       kondisi\n",
      "0         A1  4.3        Sedang\n",
      "1         A2  3.4        Sedang\n",
      "2         A3  6.8  Rusak Ringan\n",
      "3         B1  6.7  Rusak Ringan\n",
      "4         B2  6.4  Rusak Ringan\n"
     ]
    }
   ],
   "source": [
    "def klasifikasi_kondisi(sdi):\n",
    "    if sdi < 2:\n",
    "        return 'Baik'\n",
    "    elif 2 <= sdi < 5:\n",
    "        return 'Sedang'\n",
    "    elif 5 <= sdi < 8:\n",
    "        return 'Rusak Ringan'\n",
    "    elif 8 <= sdi < 12:\n",
    "        return 'Rusak Sedang'\n",
    "    else:\n",
    "        return 'Rusak Berat'\n",
    "\n",
    "df['kondisi'] = df['SDI'].apply(klasifikasi_kondisi)\n",
    "print(df[['ruas_jalan', 'SDI', 'kondisi']])"
   ]
  },
  {
   "cell_type": "code",
   "execution_count": 11,
   "id": "60198f5d-670b-4855-b1b4-9689e6625417",
   "metadata": {},
   "outputs": [
    {
     "data": {
      "image/png": "[encoded data removed]",
      "text/plain": [
       "<Figure size 1000x500 with 1 Axes>"
      ]
     },
     "metadata": {},
     "output_type": "display_data"
    }
   ],
   "source": [
    "import matplotlib.pyplot as plt\n",
    "\n",
    "plt.figure(figsize=(10, 5))\n",
    "plt.bar(df['ruas_jalan'], df['SDI'], color=['green', 'blue', 'orange', 'red', 'purple'])\n",
    "plt.title('Indeks Kerusakan Jalan (SDI) per Ruas Jalan')\n",
    "plt.xlabel('Ruas Jalan')\n",
    "plt.ylabel('Nilai SDI')\n",
    "plt.grid(axis='y')\n",
    "plt.show()"
   ]
  },
  {
   "cell_type": "code",
   "execution_count": null,
   "id": "5e5ff8df-e49f-43c6-85a5-2b875c85e31a",
   "metadata": {},
   "outputs": [],
   "source": []
  }
 ],
 "metadata": {
  "kernelspec": {
   "display_name": "Python 3 (ipykernel)",
   "language": "python",
   "name": "python3"
  },
  "language_info": {
   "codemirror_mode": {
    "name": "ipython",
    "version": 3
   },
   "file_extension": ".py",
   "mimetype": "text/x-python",
   "name": "python",
   "nbconvert_exporter": "python",
   "pygments_lexer": "ipython3",
   "version": "3.12.4"
  }
 },
 "nbformat": 4,
 "nbformat_minor": 5
}
